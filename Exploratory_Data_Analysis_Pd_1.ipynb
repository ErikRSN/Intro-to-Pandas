{
  "nbformat": 4,
  "nbformat_minor": 0,
  "metadata": {
    "colab": {
      "provenance": [],
      "authorship_tag": "ABX9TyN/3Md2CNN/IRvkTPlIa+ne",
      "include_colab_link": true
    },
    "kernelspec": {
      "name": "python3",
      "display_name": "Python 3"
    },
    "language_info": {
      "name": "python"
    }
  },
  "cells": [
    {
      "cell_type": "markdown",
      "metadata": {
        "id": "view-in-github",
        "colab_type": "text"
      },
      "source": [
        "<a href=\"https://colab.research.google.com/github/ErikRSN/Intro-to-Pandas/blob/master/Exploratory_Data_Analysis_Pd_1.ipynb\" target=\"_parent\"><img src=\"https://colab.research.google.com/assets/colab-badge.svg\" alt=\"Open In Colab\"/></a>"
      ]
    },
    {
      "cell_type": "markdown",
      "source": [
        "# Exploratory Data Analysis\n"
      ],
      "metadata": {
        "id": "vbBMugG0WGwJ"
      }
    },
    {
      "cell_type": "markdown",
      "source": [
        "#Step 0: Imports and Reading Data"
      ],
      "metadata": {
        "id": "vQqLYFftWeaV"
      }
    },
    {
      "cell_type": "code",
      "source": [
        "import pandas as pd\n",
        "import numpy as np\n",
        "import matplotlib.pylab as plt\n",
        "import seaborn as sns\n",
        "plt.style.use('ggplot')\n",
        "pd.set_option('max_columns', 200)"
      ],
      "metadata": {
        "id": "f090MSzjWrm4"
      },
      "execution_count": null,
      "outputs": []
    },
    {
      "cell_type": "code",
      "source": [
        "df = pd.read_csv('../input/rollercoaster-database/coaster_db.csv')"
      ],
      "metadata": {
        "id": "1EjJrv66Wzpz"
      },
      "execution_count": null,
      "outputs": []
    },
    {
      "cell_type": "code",
      "source": [
        "## Step 1: Data Understanding\n",
        "df.shape\n",
        "df.head(5)\n",
        "df.columns\n",
        "df.dtypes\n",
        "df.describe()\n"
      ],
      "metadata": {
        "colab": {
          "base_uri": "https://localhost:8080/",
          "height": 245
        },
        "id": "aa5RXk1KaMgp",
        "outputId": "10db87ae-d5e6-4962-813d-1f0753fcec3c"
      },
      "execution_count": null,
      "outputs": [
        {
          "output_type": "error",
          "ename": "NameError",
          "evalue": "ignored",
          "traceback": [
            "\u001b[0;31m---------------------------------------------------------------------------\u001b[0m",
            "\u001b[0;31mNameError\u001b[0m                                 Traceback (most recent call last)",
            "\u001b[0;32m<ipython-input-1-f48fd52d0993>\u001b[0m in \u001b[0;36m<cell line: 6>\u001b[0;34m()\u001b[0m\n\u001b[1;32m      4\u001b[0m \u001b[0;34m\u001b[0m\u001b[0m\n\u001b[1;32m      5\u001b[0m \u001b[0;34m\u001b[0m\u001b[0m\n\u001b[0;32m----> 6\u001b[0;31m df = df[['coaster_name',\n\u001b[0m\u001b[1;32m      7\u001b[0m     \u001b[0;31m# 'Length', 'Speed',\u001b[0m\u001b[0;34m\u001b[0m\u001b[0;34m\u001b[0m\u001b[0m\n\u001b[1;32m      8\u001b[0m     \u001b[0;34m'Location'\u001b[0m\u001b[0;34m,\u001b[0m \u001b[0;34m'Status'\u001b[0m\u001b[0;34m,\u001b[0m\u001b[0;34m\u001b[0m\u001b[0;34m\u001b[0m\u001b[0m\n",
            "\u001b[0;31mNameError\u001b[0m: name 'df' is not defined"
          ]
        }
      ]
    },
    {
      "cell_type": "code",
      "source": [
        "# Step 2: Data Preperation\n",
        "- Dropping irrelevant columns and rows\n",
        "- Identifying duplicated columns\n",
        "- Renaming Columns\n",
        "- Feature Creation"
      ],
      "metadata": {
        "id": "DEIn1R9zadCC"
      },
      "execution_count": null,
      "outputs": []
    },
    {
      "cell_type": "code",
      "source": [
        "# Example of dropping columns\n",
        "# df.drop(['Opening date'], axis=1)\n",
        "\n",
        "df = df[['coaster_name',\n",
        "    # 'Length', 'Speed',\n",
        "    'Location', 'Status',\n",
        "    # 'Opening date',\n",
        "    #   'Type',\n",
        "    'Manufacturer',\n",
        "#     'Height restriction', 'Model', 'Height',\n",
        "#        'Inversions', 'Lift/launch system', 'Cost', 'Trains', 'Park section',\n",
        "#        'Duration', 'Capacity', 'G-force', 'Designer', 'Max vertical angle',\n",
        "#        'Drop', 'Soft opening date', 'Fast Lane available', 'Replaced',\n",
        "#        'Track layout', 'Fastrack available', 'Soft opening date.1',\n",
        "#        'Closing date',\n",
        "#     'Opened',\n",
        "    # 'Replaced by', 'Website',\n",
        "#        'Flash Pass Available', 'Must transfer from wheelchair', 'Theme',\n",
        "#        'Single rider line available', 'Restraint Style',\n",
        "#        'Flash Pass available', 'Acceleration', 'Restraints', 'Name',\n",
        "       'year_introduced',\n",
        "        'latitude', 'longitude',\n",
        "    'Type_Main',\n",
        "       'opening_date_clean',\n",
        "    #'speed1', 'speed2', 'speed1_value', 'speed1_unit',\n",
        "       'speed_mph',\n",
        "    #'height_value', 'height_unit',\n",
        "    'height_ft',\n",
        "       'Inversions_clean', 'Gforce_clean']].copy()\n",
        "\n"
      ],
      "metadata": {
        "id": "FzRXMNUrbFgI"
      },
      "execution_count": null,
      "outputs": []
    },
    {
      "cell_type": "code",
      "source": [
        "df['opening_date_clean'] = pd.to_datetime(df['opening_date_clean'])"
      ],
      "metadata": {
        "id": "7XZtSV9dbNkv"
      },
      "execution_count": null,
      "outputs": []
    },
    {
      "cell_type": "code",
      "source": [
        "# Rename our columns\n",
        "df = df.rename(columns={'coaster_name':'Coaster_Name',\n",
        "                   'year_introduced':'Year_Introduced',\n",
        "                   'opening_date_clean':'Opening_Date',\n",
        "                   'speed_mph':'Speed_mph',\n",
        "                   'height_ft':'Height_ft',\n",
        "                   'Inversions_clean':'Inversions',\n",
        "                   'Gforce_clean':'Gforce'})\n",
        "\n",
        "\n",
        "df.isna().sum()\n",
        "df.loc[df.duplicated()]\n",
        "df.loc[df.duplicated(subset=['Coaster_Name'])].head(5)\n",
        "df.query('Coaster_Name == \"Crystal Beach Cyclone\"')\n",
        "df.columns\n",
        "df = df.loc[~df.duplicated(subset=['Coaster_Name','Location','Opening_Date'])] \\\n",
        "    .reset_index(drop=True).copy()\n",
        "\n",
        "\n"
      ],
      "metadata": {
        "id": "8GKNX2GLbQMq"
      },
      "execution_count": null,
      "outputs": []
    },
    {
      "cell_type": "code",
      "source": [
        "# Step 3: Feature Understanding\n",
        "(Univariate analysis)\n",
        "\n",
        "- Plotting Feature Distributions\n",
        "    - Histogram\n",
        "    - KDE\n",
        "    - Boxplot"
      ],
      "metadata": {
        "id": "4ezzYqYIbcOL"
      },
      "execution_count": null,
      "outputs": []
    },
    {
      "cell_type": "code",
      "source": [
        "df['Year_Introduced'].value_counts()\n",
        "\n"
      ],
      "metadata": {
        "id": "eJr2fIdMbebD"
      },
      "execution_count": null,
      "outputs": []
    },
    {
      "cell_type": "code",
      "source": [
        "ax = df['Year_Introduced'].value_counts() \\\n",
        "    .head(10) \\\n",
        "    .plot(kind='bar', title='Top 10 Years Coasters Introduced')\n",
        "ax.set_xlabel('Year Introduced')\n",
        "ax.set_ylabel('Count')"
      ],
      "metadata": {
        "id": "RUdUpGEabohR"
      },
      "execution_count": null,
      "outputs": []
    },
    {
      "cell_type": "code",
      "source": [
        "ax = df['Speed_mph'].plot(kind='hist',\n",
        "                          bins=20,\n",
        "                          title='Coaster Speed (mph)')\n",
        "ax.set_xlabel('Speed (mph)')"
      ],
      "metadata": {
        "id": "25UkbKREbszy"
      },
      "execution_count": null,
      "outputs": []
    },
    {
      "cell_type": "code",
      "source": [
        "df['Type_Main'].value_counts()"
      ],
      "metadata": {
        "id": "_EZwNfUsbvee"
      },
      "execution_count": null,
      "outputs": []
    },
    {
      "cell_type": "code",
      "source": [
        "# Step 4: Feature Relationships\n",
        "- Scatterplot\n",
        "- Heatmap Correlation\n",
        "- Pairplot\n",
        "- Groupby comparisons"
      ],
      "metadata": {
        "id": "BVGCMU7pdsPy"
      },
      "execution_count": null,
      "outputs": []
    },
    {
      "cell_type": "code",
      "source": [
        "df.plot(kind='scatter',\n",
        "        x='Speed_mph',\n",
        "        y='Height_ft',\n",
        "        title='Coaster Speed vs. Height')\n",
        "plt.show()"
      ],
      "metadata": {
        "id": "ZRbnMxJrdui2"
      },
      "execution_count": null,
      "outputs": []
    },
    {
      "cell_type": "code",
      "source": [
        "ax = sns.scatterplot(x='Speed_mph',\n",
        "                y='Height_ft',\n",
        "                hue='Year_Introduced',\n",
        "                data=df)\n",
        "ax.set_title('Coaster Speed vs. Height')\n",
        "plt.show()"
      ],
      "metadata": {
        "id": "VkNRypIqdxjb"
      },
      "execution_count": null,
      "outputs": []
    },
    {
      "cell_type": "code",
      "source": [
        "sns.pairplot(df,\n",
        "             vars=['Year_Introduced','Speed_mph',\n",
        "                   'Height_ft','Inversions','Gforce'],\n",
        "            hue='Type_Main')\n",
        "plt.show()"
      ],
      "metadata": {
        "id": "A3zagCUQdy_D"
      },
      "execution_count": null,
      "outputs": []
    },
    {
      "cell_type": "code",
      "source": [
        "df_corr = df[['Year_Introduced','Speed_mph',\n",
        "    'Height_ft','Inversions','Gforce']].dropna().corr()\n",
        "df_corr"
      ],
      "metadata": {
        "id": "lKa0gPC0d0Ra"
      },
      "execution_count": null,
      "outputs": []
    },
    {
      "cell_type": "code",
      "source": [
        "sns.heatmap(df_corr, annot=True)"
      ],
      "metadata": {
        "id": "YhKjf83wd1c1"
      },
      "execution_count": null,
      "outputs": []
    },
    {
      "cell_type": "code",
      "source": [],
      "metadata": {
        "id": "-12CPI6bd2c3"
      },
      "execution_count": null,
      "outputs": []
    },
    {
      "cell_type": "code",
      "source": [
        "Step 5: Ask a Question about the data\n",
        "Try to answer a question you have about the data using a plot or statistic.\n",
        "What are the locations with the fastest roller coasters (minimum of 10)?"
      ],
      "metadata": {
        "id": "pEv9-ekud4L7"
      },
      "execution_count": null,
      "outputs": []
    },
    {
      "cell_type": "code",
      "source": [
        "ax = df.query('Location != \"Other\"') \\\n",
        "    .groupby('Location')['Speed_mph'] \\\n",
        "    .agg(['mean','count']) \\\n",
        "    .query('count >= 10') \\\n",
        "    .sort_values('mean')['mean'] \\\n",
        "    .plot(kind='barh', figsize=(12, 5), title='Average Coast Speed by Location')\n",
        "ax.set_xlabel('Average Coaster Speed')\n",
        "plt.show()"
      ],
      "metadata": {
        "id": "Tv5gIsiXd5p1"
      },
      "execution_count": null,
      "outputs": []
    }
  ]
}